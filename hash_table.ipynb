{
 "cells": [
  {
   "cell_type": "code",
   "execution_count": 67,
   "metadata": {},
   "outputs": [],
   "source": [
    "import unittest"
   ]
  },
  {
   "cell_type": "code",
   "execution_count": 68,
   "metadata": {},
   "outputs": [],
   "source": [
    "class HashTable(object):\n",
    "    \n",
    "    def __init__(self, size=25):\n",
    "        self.size = size\n",
    "        self.hash_table = [[] for i in range(self.size)]\n",
    "        \n",
    "    def insert(self, key):\n",
    "        if type(key) is int:\n",
    "            self.hash_table[key % self.size].append(key)\n",
    "        elif type(key) is str:\n",
    "            char_sum = 0\n",
    "            for char in key:\n",
    "                char_sum += ord(char)\n",
    "            self.hash_table[char_sum % self.size].append(key)\n",
    "            \n",
    "    def find(self, key):\n",
    "        if type(key) is int:\n",
    "            return key in self.hash_table[key % self.size]\n",
    "        elif type(key) is str:\n",
    "            char_sum = 0\n",
    "            for char in key:\n",
    "                char_sum += ord(char)\n",
    "            return key in self.hash_table[char_sum % self.size]\n",
    "        \n",
    "    def remove(self, key):\n",
    "        try:\n",
    "            if self.find(key):\n",
    "                if type(key) is int:\n",
    "                    self.hash_table[key % self.size].remove(key)\n",
    "                elif type(key) is str:\n",
    "                    char_sum = 0\n",
    "                    for char in key:\n",
    "                        char_sum += ord(char)\n",
    "                    self.hash_table[char_sum % self.size].remove(key)\n",
    "        except:\n",
    "            raise Exception(\"No such key to remove!\")\n",
    "        \n",
    "    def __str__(self):\n",
    "        return str(self.hash_table)\n",
    "    "
   ]
  },
  {
   "cell_type": "code",
   "execution_count": 69,
   "metadata": {},
   "outputs": [
    {
     "name": "stderr",
     "output_type": "stream",
     "text": [
      "...\n",
      "----------------------------------------------------------------------\n",
      "Ran 3 tests in 0.004s\n",
      "\n",
      "OK\n"
     ]
    }
   ],
   "source": [
    "class TestHashTableMethods(unittest.TestCase):\n",
    "    \n",
    "    def test_insert(self):\n",
    "        hash_table = HashTable()\n",
    "        hash_table.insert(254)\n",
    "        self.assertTrue(hash_table.find(254))\n",
    "        \n",
    "    def test_remove(self):\n",
    "        hash_table = HashTable()\n",
    "        hash_table.insert(254)\n",
    "        hash_table.remove(254)\n",
    "        self.assertFalse(hash_table.find(254))\n",
    "\n",
    "    def test_find(self):\n",
    "        hash_table = HashTable()\n",
    "        hash_table.insert(254)\n",
    "        hash_table.insert('test')\n",
    "        hash_table.insert('a')\n",
    "        hash_table.insert(12)\n",
    "        self.assertTrue(hash_table.find('test'))        \n",
    "        self.assertFalse(hash_table.find(200))\n",
    "        \n",
    "\n",
    "if __name__ == '__main__':\n",
    "    unittest.main(argv=['first-arg-is-ignored'], exit=False)\n"
   ]
  },
  {
   "cell_type": "code",
   "execution_count": null,
   "metadata": {},
   "outputs": [],
   "source": []
  }
 ],
 "metadata": {
  "kernelspec": {
   "display_name": "Python 3",
   "language": "python",
   "name": "python3"
  },
  "language_info": {
   "codemirror_mode": {
    "name": "ipython",
    "version": 3
   },
   "file_extension": ".py",
   "mimetype": "text/x-python",
   "name": "python",
   "nbconvert_exporter": "python",
   "pygments_lexer": "ipython3",
   "version": "3.7.1"
  }
 },
 "nbformat": 4,
 "nbformat_minor": 2
}
