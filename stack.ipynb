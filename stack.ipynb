{
 "cells": [
  {
   "cell_type": "code",
   "execution_count": 9,
   "metadata": {},
   "outputs": [],
   "source": [
    "import unittest"
   ]
  },
  {
   "cell_type": "code",
   "execution_count": 10,
   "metadata": {},
   "outputs": [],
   "source": [
    "class Stack():\n",
    "    \n",
    "    def __init__(self):\n",
    "        self.stack = []\n",
    "        \n",
    "    def __str__(self):\n",
    "        return str(self.stack)\n",
    "        \n",
    "    def is_empty(self):\n",
    "        return self.stack == [] \n",
    "    \n",
    "    def size(self):\n",
    "        return len(self.stack)\n",
    "    \n",
    "    def push(self,key):\n",
    "        self.stack.append(key)\n",
    "        return key\n",
    "    \n",
    "    def top(self):\n",
    "        if self.stack == []:\n",
    "            return False\n",
    "        else:\n",
    "            return self.stack[-1]\n",
    "        \n",
    "    def pop(self):\n",
    "        stack = self.stack\n",
    "        if self.is_empty():\n",
    "            return False\n",
    "        else:\n",
    "            return self.stack.pop()\n",
    "        "
   ]
  },
  {
   "cell_type": "code",
   "execution_count": 11,
   "metadata": {},
   "outputs": [
    {
     "name": "stderr",
     "output_type": "stream",
     "text": [
      ".....\n",
      "----------------------------------------------------------------------\n",
      "Ran 5 tests in 0.005s\n",
      "\n",
      "OK\n"
     ]
    }
   ],
   "source": [
    "class TestStackMethods(unittest.TestCase):\n",
    "    \n",
    "    def test_is_empty(self):\n",
    "        empty_stack = Stack()\n",
    "        stack = Stack()\n",
    "        stack.push(1)\n",
    "        self.assertTrue(empty_stack.is_empty())\n",
    "        self.assertFalse(stack.is_empty())\n",
    "        \n",
    "    def test_push(self):\n",
    "        stack = Stack()\n",
    "        stack.push(1)\n",
    "        self.assertFalse(stack.is_empty())\n",
    "        \n",
    "    def test_pop(self):\n",
    "        stack = Stack()\n",
    "        stack.push(1)\n",
    "        stack.pop()\n",
    "        self.assertTrue(stack.is_empty())\n",
    "        \n",
    "    def test_top(self):\n",
    "        stack = Stack()\n",
    "        stack.push(1)\n",
    "        stack.push(2)\n",
    "        stack.push(3)\n",
    "        self.assertEqual(stack.top(), 3)\n",
    "        \n",
    "    def test_size(self):\n",
    "        stack = Stack()\n",
    "        stack.push(1)\n",
    "        stack.push(2)\n",
    "        self.assertEqual(stack.size(), 2)\n",
    "\n",
    "        \n",
    "if __name__ == '__main__':\n",
    "    unittest.main(argv=['first-arg-is-ignored'], exit=False)\n"
   ]
  },
  {
   "cell_type": "code",
   "execution_count": null,
   "metadata": {},
   "outputs": [],
   "source": []
  }
 ],
 "metadata": {
  "kernelspec": {
   "display_name": "Python 3",
   "language": "python",
   "name": "python3"
  },
  "language_info": {
   "codemirror_mode": {
    "name": "ipython",
    "version": 3
   },
   "file_extension": ".py",
   "mimetype": "text/x-python",
   "name": "python",
   "nbconvert_exporter": "python",
   "pygments_lexer": "ipython3",
   "version": "3.7.1"
  }
 },
 "nbformat": 4,
 "nbformat_minor": 2
}
