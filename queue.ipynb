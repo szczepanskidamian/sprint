{
 "cells": [
  {
   "cell_type": "code",
   "execution_count": 1,
   "metadata": {},
   "outputs": [],
   "source": [
    "import unittest"
   ]
  },
  {
   "cell_type": "code",
   "execution_count": 5,
   "metadata": {},
   "outputs": [],
   "source": [
    "class Node(object):\n",
    "    def __init__(self, key = None):\n",
    "        self.key = key\n",
    "        self.next = None\n",
    "        self.prev = None\n",
    "    \n",
    "    def getKey(self):\n",
    "        return self.key\n",
    "    \n",
    "    def getNext(self):\n",
    "        return self.next\n",
    "    \n",
    "    def getPrev(self):\n",
    "        return self.prev\n",
    "    \n",
    "    def setKey(self, new_key):\n",
    "        self.key = new_key\n",
    "        \n",
    "    def setNext(self, new_next):\n",
    "        self.next = new_next\n",
    "        \n",
    "    def setPrev(self, new_prev):\n",
    "        self.prev = new_prev\n",
    "    "
   ]
  },
  {
   "cell_type": "code",
   "execution_count": 2,
   "metadata": {},
   "outputs": [],
   "source": [
    "class Queue(object):\n",
    "    def __init__(self):\n",
    "        self.head = None\n",
    "        self.tail = None\n",
    "    \n",
    "    def is_empty(self):\n",
    "        if self.tail == None:\n",
    "            return True\n",
    "        else:\n",
    "            return False\n",
    "\n",
    "    def enqueue(self, key):\n",
    "        item = Node(key)\n",
    "        item.setNext(self.head)\n",
    "        if self.is_empty():\n",
    "            self.tail = item\n",
    "            self.head = item\n",
    "        else:\n",
    "            self.head.setPrev(item)\n",
    "            item.setNext(self.head)\n",
    "            self.head = item\n",
    "        \n",
    "    def dequeue(self):\n",
    "        if self.is_empty():\n",
    "            return None\n",
    "        temp = self.tail\n",
    "        self.tail = temp.getPrev()\n",
    "        return temp.getKey()\n",
    "    \n",
    "    def _tail(self):\n",
    "        return self.tail\n",
    "    \n",
    "    def _head(self):\n",
    "        return self.head\n",
    "    "
   ]
  },
  {
   "cell_type": "code",
   "execution_count": 6,
   "metadata": {},
   "outputs": [
    {
     "name": "stderr",
     "output_type": "stream",
     "text": [
      ".....\n",
      "----------------------------------------------------------------------\n",
      "Ran 5 tests in 0.004s\n",
      "\n",
      "OK\n"
     ]
    }
   ],
   "source": [
    "class TestQueueMethods(unittest.TestCase):\n",
    "    \n",
    "    def test_is_empty(self):\n",
    "        queue = Queue()\n",
    "        empty_queue = Queue()\n",
    "        queue.enqueue(1)\n",
    "        queue.enqueue(2)\n",
    "        self.assertTrue(empty_queue.is_empty())\n",
    "        self.assertFalse(queue.is_empty())\n",
    "        \n",
    "    def test_enqueue(self):\n",
    "        queue = Queue()\n",
    "        queue.enqueue(1)\n",
    "        queue.enqueue(2)\n",
    "        self.assertFalse(queue.is_empty())\n",
    "        \n",
    "    def test_dequeue(self):\n",
    "        queue = Queue()\n",
    "        queue.enqueue(1)\n",
    "        queue.dequeue()\n",
    "        self.assertTrue(queue.is_empty())\n",
    "        \n",
    "    def test_tail(self):\n",
    "        queue = Queue()\n",
    "        queue.enqueue(1)\n",
    "        queue.enqueue(2)\n",
    "        queue.enqueue(3)\n",
    "        self.assertEqual(queue._tail().getKey(), 1)\n",
    "        \n",
    "    def test_head(self):\n",
    "        queue = Queue()\n",
    "        queue.enqueue(1)\n",
    "        queue.enqueue(2)\n",
    "        queue.enqueue(3)\n",
    "        self.assertEqual(queue._head().getKey(), 3)\n",
    "        \n",
    "        \n",
    "if __name__ == '__main__':\n",
    "    unittest.main(argv=['first-arg-is-ignored'], exit=False)\n"
   ]
  },
  {
   "cell_type": "code",
   "execution_count": null,
   "metadata": {},
   "outputs": [],
   "source": []
  }
 ],
 "metadata": {
  "kernelspec": {
   "display_name": "Python 3",
   "language": "python",
   "name": "python3"
  },
  "language_info": {
   "codemirror_mode": {
    "name": "ipython",
    "version": 3
   },
   "file_extension": ".py",
   "mimetype": "text/x-python",
   "name": "python",
   "nbconvert_exporter": "python",
   "pygments_lexer": "ipython3",
   "version": "3.7.1"
  }
 },
 "nbformat": 4,
 "nbformat_minor": 2
}
