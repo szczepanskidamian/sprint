{
 "cells": [
  {
   "cell_type": "code",
   "execution_count": 1,
   "metadata": {},
   "outputs": [],
   "source": [
    "import unittest"
   ]
  },
  {
   "cell_type": "code",
   "execution_count": 2,
   "metadata": {},
   "outputs": [],
   "source": [
    "class Node():\n",
    "    \n",
    "    def __init__(self, value):\n",
    "        self.value = value\n",
    "        self.next = None\n",
    "        self.prev = None\n",
    "        "
   ]
  },
  {
   "cell_type": "code",
   "execution_count": 3,
   "metadata": {},
   "outputs": [],
   "source": [
    "class LinkedList():\n",
    "\n",
    "    def __init__(self, value):\n",
    "        self.head = Node(value)\n",
    "        self.tail = self.head\n",
    "    \n",
    "    def add_last(self, value):\n",
    "        item = self.head\n",
    "        while item.next != None:\n",
    "            item = item.next\n",
    "        item.next = Node(value)\n",
    "        self.tail = item.next\n",
    "        \n",
    "    def add_first(self, value):\n",
    "        item = Node(value)\n",
    "        item.next = self.head\n",
    "        self.head = item\n",
    "        \n",
    "    def remove_last(self):\n",
    "        item = self.head\n",
    "        while item.next.next != None:\n",
    "            item = item.next\n",
    "        self.tail = item\n",
    "        item.next = None\n",
    "        \n",
    "    def remove_first(self):\n",
    "        self.head = self.head.next\n",
    "    \n",
    "    def __str__(self):\n",
    "        item = self.head\n",
    "        string = \"\"\n",
    "        while item != None:\n",
    "            string += str(item.value) + \" \"\n",
    "            item = item.next\n",
    "        return string\n",
    "    "
   ]
  },
  {
   "cell_type": "code",
   "execution_count": 4,
   "metadata": {},
   "outputs": [
    {
     "name": "stderr",
     "output_type": "stream",
     "text": [
      "....\n",
      "----------------------------------------------------------------------\n",
      "Ran 4 tests in 0.007s\n",
      "\n",
      "OK\n"
     ]
    }
   ],
   "source": [
    "class TestLinkedListMethods(unittest.TestCase):\n",
    "    \n",
    "    def test_add_first(self):\n",
    "        linked_list = LinkedList(1)\n",
    "        linked_list.add_first(2)\n",
    "        linked_list.add_first(3)\n",
    "        self.assertEqual(linked_list.head.value, 3)\n",
    "        \n",
    "    def test_add_last(self):\n",
    "        linked_list = LinkedList(1)\n",
    "        linked_list.add_last(2)\n",
    "        linked_list.add_last(3)\n",
    "        self.assertEqual(linked_list.tail.value, 3)\n",
    "        \n",
    "    def test_remove_first(self):\n",
    "        linked_list = LinkedList(1)\n",
    "        linked_list.add_first(2)\n",
    "        linked_list.add_first(3)\n",
    "        linked_list.remove_first()\n",
    "        self.assertEqual(linked_list.head.value, 2)\n",
    "        \n",
    "    def test_remove_last(self):\n",
    "        linked_list = LinkedList(1)\n",
    "        linked_list.add_last(2)\n",
    "        linked_list.add_last(3)\n",
    "        linked_list.remove_last()\n",
    "        self.assertEqual(linked_list.tail.value, 2)\n",
    "        \n",
    "        \n",
    "if __name__ == '__main__':\n",
    "    unittest.main(argv=['first-arg-is-ignored'], exit=False)\n",
    "    "
   ]
  },
  {
   "cell_type": "code",
   "execution_count": null,
   "metadata": {},
   "outputs": [],
   "source": []
  }
 ],
 "metadata": {
  "kernelspec": {
   "display_name": "Python 3",
   "language": "python",
   "name": "python3"
  },
  "language_info": {
   "codemirror_mode": {
    "name": "ipython",
    "version": 3
   },
   "file_extension": ".py",
   "mimetype": "text/x-python",
   "name": "python",
   "nbconvert_exporter": "python",
   "pygments_lexer": "ipython3",
   "version": "3.7.1"
  }
 },
 "nbformat": 4,
 "nbformat_minor": 2
}
