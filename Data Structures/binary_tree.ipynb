{
 "cells": [
  {
   "cell_type": "code",
   "execution_count": 1,
   "metadata": {},
   "outputs": [],
   "source": [
    "import unittest"
   ]
  },
  {
   "cell_type": "code",
   "execution_count": 2,
   "metadata": {},
   "outputs": [],
   "source": [
    "class Node(object):\n",
    "    \n",
    "    def __init__(self, value):\n",
    "        self.value = value\n",
    "        self.left = None\n",
    "        self.right = None\n",
    "    \n",
    "    def set_left(self, value):\n",
    "        self.left = Node(value)\n",
    "        \n",
    "    def set_right(self, value):\n",
    "        self.right = Node(value)\n",
    "                "
   ]
  },
  {
   "cell_type": "code",
   "execution_count": 3,
   "metadata": {},
   "outputs": [],
   "source": [
    "class BinaryTree(object):\n",
    "    \n",
    "    def __init__(self):\n",
    "        self.root = None\n",
    "    \n",
    "    def set_root(self, value):\n",
    "        self.root = Node(value)\n",
    "    \n",
    "    def preorder(self):\n",
    "        out = []\n",
    "        self._preorder(self.root, out)\n",
    "        return out\n",
    "    \n",
    "    def _preorder(self, tree, out):\n",
    "        if tree != None: \n",
    "            out.append(tree.value)\n",
    "            self._preorder(tree.left, out)\n",
    "            self._preorder(tree.right, out)\n",
    "    \n",
    "    def inorder(self):\n",
    "        out = []\n",
    "        self._inorder(self.root, out)\n",
    "        return out\n",
    "    \n",
    "    def _inorder(self, tree, out):\n",
    "        if tree != None:\n",
    "            self._inorder(tree.left, out)\n",
    "            out.append(tree.value)\n",
    "            self._inorder(tree.right, out)\n",
    "            \n",
    "    def postorder(self):\n",
    "        out = []\n",
    "        self._postorder(self.root, out)\n",
    "        return out\n",
    "    \n",
    "    def _postorder(self, tree, out):\n",
    "        if tree != None:\n",
    "            self._postorder(tree.left, out)\n",
    "            self._postorder(tree.right, out)\n",
    "            out.append(tree.value)\n",
    "            "
   ]
  },
  {
   "cell_type": "code",
   "execution_count": 4,
   "metadata": {},
   "outputs": [
    {
     "name": "stderr",
     "output_type": "stream",
     "text": [
      "....\n",
      "----------------------------------------------------------------------\n",
      "Ran 4 tests in 0.007s\n",
      "\n",
      "OK\n"
     ]
    }
   ],
   "source": [
    "class TestBinaryTreeMethods(unittest.TestCase):\n",
    "    \n",
    "    def test_set_root(self):\n",
    "        tree = BinaryTree()\n",
    "        tree.set_root(3)\n",
    "        self.assertEqual(tree.root.value, 3)\n",
    "        \n",
    "    def test_preorder(self):\n",
    "        tree = BinaryTree()\n",
    "        tree.set_root(1)\n",
    "        tree.root.set_left(2)\n",
    "        tree.root.set_right(3)\n",
    "        tree.root.right.set_left(4)\n",
    "        tree.root.right.set_right(5)\n",
    "        self.assertEqual(tree.preorder(), [1, 2, 3, 4, 5])\n",
    "        \n",
    "    def test_inorder(self):\n",
    "        tree = BinaryTree()\n",
    "        tree.set_root(1)\n",
    "        tree.root.set_left(2)\n",
    "        tree.root.set_right(3)\n",
    "        tree.root.right.set_left(4)\n",
    "        tree.root.right.set_right(5)\n",
    "        self.assertEqual(tree.inorder(), [2, 1, 4, 3, 5])\n",
    "        \n",
    "    def test_postorder(self):\n",
    "        tree = BinaryTree()\n",
    "        tree.set_root(1)\n",
    "        tree.root.set_left(2)\n",
    "        tree.root.set_right(3)\n",
    "        tree.root.right.set_left(4)\n",
    "        tree.root.right.set_right(5)\n",
    "        self.assertEqual(tree.postorder(), [2, 4, 5, 3, 1])        \n",
    "\n",
    "\n",
    "if __name__ == '__main__':\n",
    "    unittest.main(argv=['first-arg-is-ignored'], exit=False)\n"
   ]
  },
  {
   "cell_type": "code",
   "execution_count": null,
   "metadata": {},
   "outputs": [],
   "source": []
  }
 ],
 "metadata": {
  "kernelspec": {
   "display_name": "Python 3",
   "language": "python",
   "name": "python3"
  },
  "language_info": {
   "codemirror_mode": {
    "name": "ipython",
    "version": 3
   },
   "file_extension": ".py",
   "mimetype": "text/x-python",
   "name": "python",
   "nbconvert_exporter": "python",
   "pygments_lexer": "ipython3",
   "version": "3.7.1"
  }
 },
 "nbformat": 4,
 "nbformat_minor": 2
}
